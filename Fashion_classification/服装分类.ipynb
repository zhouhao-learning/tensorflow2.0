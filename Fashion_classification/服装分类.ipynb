{
 "cells": [
  {
   "cell_type": "code",
   "execution_count": 23,
   "metadata": {},
   "outputs": [],
   "source": [
    "import tensorflow as tf\n",
    "from tensorflow import keras\n",
    "import numpy as np\n",
    "import matplotlib.pyplot as plt"
   ]
  },
  {
   "cell_type": "code",
   "execution_count": 3,
   "metadata": {},
   "outputs": [
    {
     "data": {
      "text/plain": [
       "'2.0.0'"
      ]
     },
     "execution_count": 3,
     "metadata": {},
     "output_type": "execute_result"
    }
   ],
   "source": [
    "tf.__version__"
   ]
  },
  {
   "cell_type": "markdown",
   "metadata": {},
   "source": [
    "#### 使用 Fashion MNIST数据集作为训练数据，该数据包含10个类别衣服类型，总共有70000个灰度图像，图像的像素都是28x28像素，对应\n",
    "\n",
    "#### 的数据标签如下:{0:T恤, 1:裤子，2:套衫, 3:连衣裙, 4:外套, 5:凉鞋, 6:衬衫, 7:运动鞋, 8:手提包, 9:踝靴}"
   ]
  },
  {
   "cell_type": "markdown",
   "metadata": {},
   "source": [
    "> 从tf直接加载`Fashion MNIST`数据，使用60000张图像作为训练数据, 10000张图像作为测试数据"
   ]
  },
  {
   "cell_type": "code",
   "execution_count": 4,
   "metadata": {},
   "outputs": [],
   "source": [
    "fashion_datasets = keras.datasets.fashion_mnist\n",
    "(train_image, train_labels), (test_images, test_labels) = fashion_datasets.load_data()"
   ]
  },
  {
   "cell_type": "code",
   "execution_count": 7,
   "metadata": {},
   "outputs": [
    {
     "name": "stdout",
     "output_type": "stream",
     "text": [
      "训练数据: (60000, 28, 28)\n",
      "训练数据的最大值: 255\n",
      "训练数据的最小值: 0\n"
     ]
    }
   ],
   "source": [
    "print(\"训练数据:\", train_image.shape)\n",
    "print(\"训练数据的最大值:\", train_image[0].max())\n",
    "print(\"训练数据的最小值:\", train_image.min())"
   ]
  },
  {
   "cell_type": "code",
   "execution_count": 8,
   "metadata": {},
   "outputs": [
    {
     "name": "stdout",
     "output_type": "stream",
     "text": [
      "训练数据标签: (60000,)\n"
     ]
    }
   ],
   "source": [
    "print(\"训练数据标签:\",train_labels.shape)"
   ]
  },
  {
   "cell_type": "code",
   "execution_count": 10,
   "metadata": {},
   "outputs": [
    {
     "data": {
      "text/plain": [
       "array([9, 0, 0, 3, 0, 2, 7, 2, 5, 5], dtype=uint8)"
      ]
     },
     "execution_count": 10,
     "metadata": {},
     "output_type": "execute_result"
    }
   ],
   "source": [
    "train_labels[:10]"
   ]
  },
  {
   "cell_type": "markdown",
   "metadata": {},
   "source": [
    "> 可视化数据"
   ]
  },
  {
   "cell_type": "code",
   "execution_count": 19,
   "metadata": {},
   "outputs": [
    {
     "data": {
      "image/png": "[encoded data removed]",
      "text/plain": [
       "<Figure size 432x288 with 9 Axes>"
      ]
     },
     "metadata": {
      "needs_background": "light"
     },
     "output_type": "display_data"
    }
   ],
   "source": [
    "plt.figure()\n",
    "for i in range(1,10):\n",
    "    plt.subplot(2,5,i)\n",
    "    plt.imshow(train_image[i],cmap=\"gray\")\n",
    "    plt.title(train_labels[i])\n",
    "plt.show()"
   ]
  },
  {
   "cell_type": "code",
   "execution_count": 90,
   "metadata": {},
   "outputs": [],
   "source": [
    "model = keras.Sequential()\n",
    "model.add(keras.layers.Flatten(input_shape=(28,28),name=\"input\"))  # 输入的时候必须加上name的定义，否则在评估模型的时候会出现张量类型错误\n",
    "model.add(keras.layers.Dense(128,activation=\"relu\"))\n",
    "model.add(keras.layers.Dense(10, activation=\"softmax\"))"
   ]
  },
  {
   "cell_type": "code",
   "execution_count": 91,
   "metadata": {},
   "outputs": [],
   "source": [
    "model.compile(optimizer=\"adam\", loss=\"sparse_categorical_crossentropy\", metrics=[\"acc\"])"
   ]
  },
  {
   "cell_type": "code",
   "execution_count": 92,
   "metadata": {},
   "outputs": [
    {
     "name": "stdout",
     "output_type": "stream",
     "text": [
      "Train on 60000 samples\n",
      "Epoch 1/10\n",
      "60000/60000 [==============================] - 2s 36us/sample - loss: 2.4794 - acc: 0.7089\n",
      "Epoch 2/10\n",
      "60000/60000 [==============================] - 2s 31us/sample - loss: 0.6139 - acc: 0.7979\n",
      "Epoch 3/10\n",
      "60000/60000 [==============================] - 2s 32us/sample - loss: 0.5469 - acc: 0.8172\n",
      "Epoch 4/10\n",
      "60000/60000 [==============================] - 2s 32us/sample - loss: 0.5175 - acc: 0.8279\n",
      "Epoch 5/10\n",
      "60000/60000 [==============================] - 2s 33us/sample - loss: 0.4930 - acc: 0.8353\n",
      "Epoch 6/10\n",
      "60000/60000 [==============================] - 2s 32us/sample - loss: 0.4798 - acc: 0.8399\n",
      "Epoch 7/10\n",
      "60000/60000 [==============================] - 2s 32us/sample - loss: 0.4778 - acc: 0.8420\n",
      "Epoch 8/10\n",
      "60000/60000 [==============================] - 2s 32us/sample - loss: 0.4727 - acc: 0.8422\n",
      "Epoch 9/10\n",
      "60000/60000 [==============================] - 2s 32us/sample - loss: 0.4584 - acc: 0.8466\n",
      "Epoch 10/10\n",
      "60000/60000 [==============================] - 2s 32us/sample - loss: 0.4574 - acc: 0.8471\n"
     ]
    },
    {
     "data": {
      "text/plain": [
       "<tensorflow.python.keras.callbacks.History at 0x7fb110136fd0>"
      ]
     },
     "execution_count": 92,
     "metadata": {},
     "output_type": "execute_result"
    }
   ],
   "source": [
    "model.fit(train_image, train_labels, epochs=10, verbose=1)"
   ]
  },
  {
   "cell_type": "code",
   "execution_count": 93,
   "metadata": {},
   "outputs": [
    {
     "data": {
      "text/plain": [
       "(None, 28, 28)"
      ]
     },
     "execution_count": 93,
     "metadata": {},
     "output_type": "execute_result"
    }
   ],
   "source": [
    "model.input_shape"
   ]
  },
  {
   "cell_type": "code",
   "execution_count": 94,
   "metadata": {},
   "outputs": [
    {
     "name": "stdout",
     "output_type": "stream",
     "text": [
      "10000/1 - 0s - loss: 0.4232 - acc: 0.8361\n",
      "\n",
      "Test accuracy: 0.8361\n"
     ]
    }
   ],
   "source": [
    "test_loss, test_acc = model.evaluate(test_images, test_labels, verbose=2)\n",
    "\n",
    "print('\\nTest accuracy:', test_acc)"
   ]
  },
  {
   "cell_type": "code",
   "execution_count": 115,
   "metadata": {},
   "outputs": [],
   "source": [
    "pre = model.predict(test_images)"
   ]
  },
  {
   "cell_type": "code",
   "execution_count": 116,
   "metadata": {},
   "outputs": [
    {
     "data": {
      "text/plain": [
       "(10000, 10)"
      ]
     },
     "execution_count": 116,
     "metadata": {},
     "output_type": "execute_result"
    }
   ],
   "source": [
    "pre.shape"
   ]
  },
  {
   "cell_type": "markdown",
   "metadata": {},
   "source": [
    "> 模型预测的输出是每张图片对应真实label的概率，哪个类别对应的概率最大，表示模型预测该图片属于哪个类"
   ]
  },
  {
   "cell_type": "code",
   "execution_count": 125,
   "metadata": {},
   "outputs": [
    {
     "name": "stdout",
     "output_type": "stream",
     "text": [
      "第0张图片的真实标签是: 9 预测标签是: 9\n",
      "第1张图片的真实标签是: 2 预测标签是: 2\n",
      "第2张图片的真实标签是: 1 预测标签是: 1\n",
      "第3张图片的真实标签是: 1 预测标签是: 1\n",
      "第4张图片的真实标签是: 6 预测标签是: 6\n",
      "第5张图片的真实标签是: 1 预测标签是: 1\n",
      "第6张图片的真实标签是: 4 预测标签是: 4\n",
      "第7张图片的真实标签是: 6 预测标签是: 6\n",
      "第8张图片的真实标签是: 5 预测标签是: 5\n",
      "第9张图片的真实标签是: 7 预测标签是: 7\n"
     ]
    }
   ],
   "source": [
    "for i in range(10):\n",
    "    true_labels = test_labels[i]\n",
    "    pre_labels = np.argmax(pre[i])\n",
    "    print(\"第\"+str(i)+\"张图片的真实标签是:\",true_labels, \"预测标签是:\",pre_labels)"
   ]
  },
  {
   "cell_type": "code",
   "execution_count": 128,
   "metadata": {},
   "outputs": [
    {
     "data": {
      "text/plain": [
       "(1, 28, 28)"
      ]
     },
     "execution_count": 128,
     "metadata": {},
     "output_type": "execute_result"
    }
   ],
   "source": [
    "# 单张图片的预测\n",
    "img = np.expand_dims(test_images[0], axis=0) # 输入必须是三维，单张图片的预测相当于batch_size=1\n",
    "img.shape"
   ]
  },
  {
   "cell_type": "code",
   "execution_count": 129,
   "metadata": {},
   "outputs": [
    {
     "data": {
      "text/plain": [
       "array([[1.29154664e-20, 1.66852242e-16, 0.00000000e+00, 5.99512370e-14,\n",
       "        0.00000000e+00, 1.32514080e-02, 3.61769030e-27, 7.37906918e-02,\n",
       "        1.70840701e-19, 9.12957907e-01]], dtype=float32)"
      ]
     },
     "execution_count": 129,
     "metadata": {},
     "output_type": "execute_result"
    }
   ],
   "source": [
    "model.predict(img)"
   ]
  },
  {
   "cell_type": "code",
   "execution_count": 132,
   "metadata": {},
   "outputs": [
    {
     "data": {
      "image/png": "[encoded data removed]",
      "text/plain": [
       "<Figure size 432x288 with 1 Axes>"
      ]
     },
     "metadata": {
      "needs_background": "light"
     },
     "output_type": "display_data"
    }
   ],
   "source": [
    "# 显示测试集的第一张图片\n",
    "plt.imshow(test_images[0],cmap=\"gray\")\n",
    "plt.show()"
   ]
  },
  {
   "cell_type": "markdown",
   "metadata": {},
   "source": [
    "#### 保存模型和加载模型\n",
    "\n",
    "*  只保存权重: model.save_weight,加载方法为model.load_weights(\"\")\n",
    "*  模型权重全部保存:model.save,加载方法为keras.model.load_model(\"\")"
   ]
  },
  {
   "cell_type": "code",
   "execution_count": 133,
   "metadata": {},
   "outputs": [],
   "source": [
    "model.save_weights(\"./checkpoints/my_checkpoint\")"
   ]
  },
  {
   "cell_type": "code",
   "execution_count": 134,
   "metadata": {},
   "outputs": [],
   "source": [
    "model.save(\"./checkpoints/fashion.h5\")"
   ]
  },
  {
   "cell_type": "code",
   "execution_count": null,
   "metadata": {},
   "outputs": [],
   "source": []
  }
 ],
 "metadata": {
  "kernelspec": {
   "display_name": "Python 3",
   "language": "python",
   "name": "python3"
  },
  "language_info": {
   "codemirror_mode": {
    "name": "ipython",
    "version": 3
   },
   "file_extension": ".py",
   "mimetype": "text/x-python",
   "name": "python",
   "nbconvert_exporter": "python",
   "pygments_lexer": "ipython3",
   "version": "3.6.4"
  }
 },
 "nbformat": 4,
 "nbformat_minor": 2
}
